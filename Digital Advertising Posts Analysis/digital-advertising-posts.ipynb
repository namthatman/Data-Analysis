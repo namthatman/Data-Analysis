{
 "cells": [
  {
   "cell_type": "markdown",
   "metadata": {
    "papermill": {
     "duration": 0.022103,
     "end_time": "2021-02-16T02:31:20.195588",
     "exception": false,
     "start_time": "2021-02-16T02:31:20.173485",
     "status": "completed"
    },
    "tags": []
   },
   "source": [
    "# Digital Advertising Posts Insights Data\n",
    "\n",
    "\n",
    "### Overview\n",
    "This is a post dataset which contains 59 posts occurring between 2018-01-12 and 2020-10-28 for a marketing agency. The company mainly does digital advertising. Many customers of the company are small-to-middle promising brands."
   ]
  },
  {
   "cell_type": "markdown",
   "metadata": {
    "papermill": {
     "duration": 0.020024,
     "end_time": "2021-02-16T02:31:20.237129",
     "exception": false,
     "start_time": "2021-02-16T02:31:20.217105",
     "status": "completed"
    },
    "tags": []
   },
   "source": [
    "# LIBRARY"
   ]
  },
  {
   "cell_type": "code",
   "execution_count": 1,
   "metadata": {
    "_cell_guid": "b1076dfc-b9ad-4769-8c92-a6c4dae69d19",
    "_kg_hide-input": true,
    "_uuid": "8f2839f25d086af736a60e9eeb907d3b93b6e0e5",
    "execution": {
     "iopub.execute_input": "2021-02-16T02:31:20.281183Z",
     "iopub.status.busy": "2021-02-16T02:31:20.280549Z",
     "iopub.status.idle": "2021-02-16T02:31:21.167767Z",
     "shell.execute_reply": "2021-02-16T02:31:21.168297Z"
    },
    "papermill": {
     "duration": 0.911299,
     "end_time": "2021-02-16T02:31:21.168530",
     "exception": false,
     "start_time": "2021-02-16T02:31:20.257231",
     "status": "completed"
    },
    "tags": []
   },
   "outputs": [],
   "source": [
    "import numpy as np\n",
    "import pandas as pd\n",
    "import json\n",
    "\n",
    "import matplotlib.pyplot as plt\n",
    "%matplotlib inline\n",
    "import seaborn as sns\n",
    "\n",
    "import glob\n",
    "from pathlib import Path\n",
    "import xml.etree.ElementTree as ET"
   ]
  },
  {
   "cell_type": "markdown",
   "metadata": {
    "papermill": {
     "duration": 0.021427,
     "end_time": "2021-02-16T02:31:21.211482",
     "exception": false,
     "start_time": "2021-02-16T02:31:21.190055",
     "status": "completed"
    },
    "tags": []
   },
   "source": [
    "# LOAD DATA"
   ]
  },
  {
   "cell_type": "code",
   "execution_count": 2,
   "metadata": {
    "_kg_hide-input": true,
    "execution": {
     "iopub.execute_input": "2021-02-16T02:31:21.256881Z",
     "iopub.status.busy": "2021-02-16T02:31:21.256260Z",
     "iopub.status.idle": "2021-02-16T02:31:21.273239Z",
     "shell.execute_reply": "2021-02-16T02:31:21.272714Z"
    },
    "papermill": {
     "duration": 0.040737,
     "end_time": "2021-02-16T02:31:21.273339",
     "exception": false,
     "start_time": "2021-02-16T02:31:21.232602",
     "status": "completed"
    },
    "tags": []
   },
   "outputs": [
    {
     "data": {
      "text/plain": [
       "['/input/gopopcorn/Facebook Insights Data Export (Post Level) - Popcorn - 2020-10-28 (5).xls',\n",
       " '/input/gopopcorn/Facebook Insights Data Export (Post Level) - Popcorn - 2020-10-28 (2).xls',\n",
       " '/input/gopopcorn/Facebook Insights Data Export (Post Level) - Popcorn - 2020-10-28 (6).xls',\n",
       " '/input/gopopcorn/Facebook Insights Data Export (Post Level) - Popcorn - 2020-10-28 (1).xls',\n",
       " '/input/gopopcorn/Facebook Insights Data Export (Post Level) - Popcorn - 2020-10-28 (3).xls',\n",
       " '/input/gopopcorn/Facebook Insights Data Export (Post Level) - Popcorn - 2020-10-28 (7).xls',\n",
       " '/input/gopopcorn/Facebook Insights Data Export (Post Level) - Popcorn - 2020-10-28 (4).xls',\n",
       " '/input/gopopcorn/Facebook Insights Data Export (Post Level) - Popcorn - 2020-10-28.xls']"
      ]
     },
     "execution_count": 2,
     "metadata": {},
     "output_type": "execute_result"
    }
   ],
   "source": [
    "pattern = '../input/gopopcorn/*.xls'\n",
    "excel_files = glob.glob(pattern)\n",
    "\n",
    "# Cleaning excel_files\n",
    "for i in range (len(excel_files)):\n",
    "    excel_files[i] = excel_files[i][2:]\n",
    "excel_files"
   ]
  },
  {
   "cell_type": "markdown",
   "metadata": {
    "papermill": {
     "duration": 0.0217,
     "end_time": "2021-02-16T02:31:21.317224",
     "exception": false,
     "start_time": "2021-02-16T02:31:21.295524",
     "status": "completed"
    },
    "tags": []
   },
   "source": [
    "# CLEANING PROCESS & AGGREGATING DATA"
   ]
  },
  {
   "cell_type": "code",
   "execution_count": 3,
   "metadata": {
    "_kg_hide-input": true,
    "execution": {
     "iopub.execute_input": "2021-02-16T02:31:21.364169Z",
     "iopub.status.busy": "2021-02-16T02:31:21.363295Z",
     "iopub.status.idle": "2021-02-16T02:31:21.591486Z",
     "shell.execute_reply": "2021-02-16T02:31:21.590799Z"
    },
    "papermill": {
     "duration": 0.252925,
     "end_time": "2021-02-16T02:31:21.591587",
     "exception": false,
     "start_time": "2021-02-16T02:31:21.338662",
     "status": "completed"
    },
    "tags": []
   },
   "outputs": [
    {
     "data": {
      "text/html": [
       "<div>\n",
       "<style scoped>\n",
       "    .dataframe tbody tr th:only-of-type {\n",
       "        vertical-align: middle;\n",
       "    }\n",
       "\n",
       "    .dataframe tbody tr th {\n",
       "        vertical-align: top;\n",
       "    }\n",
       "\n",
       "    .dataframe thead th {\n",
       "        text-align: right;\n",
       "    }\n",
       "</style>\n",
       "<table border=\"1\" class=\"dataframe\">\n",
       "  <thead>\n",
       "    <tr style=\"text-align: right;\">\n",
       "      <th></th>\n",
       "      <th>Post ID</th>\n",
       "      <th>Permalink</th>\n",
       "      <th>Type</th>\n",
       "      <th>Date</th>\n",
       "      <th>Reach</th>\n",
       "      <th>Impression</th>\n",
       "      <th>Post Click</th>\n",
       "      <th>like</th>\n",
       "      <th>share</th>\n",
       "      <th>comment</th>\n",
       "    </tr>\n",
       "  </thead>\n",
       "  <tbody>\n",
       "    <tr>\n",
       "      <th>0</th>\n",
       "      <td>127033344034200_2283985015005678</td>\n",
       "      <td>https://www.facebook.com/goPOPCORN/posts/22839...</td>\n",
       "      <td>Link</td>\n",
       "      <td>2018-11-21T23:46:32.000</td>\n",
       "      <td>187</td>\n",
       "      <td>237</td>\n",
       "      <td>7</td>\n",
       "      <td>0</td>\n",
       "      <td>0</td>\n",
       "      <td>0</td>\n",
       "    </tr>\n",
       "  </tbody>\n",
       "</table>\n",
       "</div>"
      ],
      "text/plain": [
       "                            Post ID  \\\n",
       "0  127033344034200_2283985015005678   \n",
       "\n",
       "                                           Permalink  Type  \\\n",
       "0  https://www.facebook.com/goPOPCORN/posts/22839...  Link   \n",
       "\n",
       "                      Date Reach Impression Post Click like share comment  \n",
       "0  2018-11-21T23:46:32.000   187        237          7    0     0       0  "
      ]
     },
     "execution_count": 3,
     "metadata": {},
     "output_type": "execute_result"
    }
   ],
   "source": [
    "ss = '{urn:schemas-microsoft-com:office:spreadsheet}'\n",
    "\n",
    "result = pd.DataFrame(columns=['Post ID', 'Permalink', 'Type', 'Date', 'Reach', 'Impression',\n",
    "       'Post Click', 'like', 'share', 'comment'])\n",
    "\n",
    "for excel_file in excel_files:\n",
    "    root  = ET.parse('../{}'.format(excel_file)).getroot()\n",
    "    \n",
    "    # Sheet Key_metrics\n",
    "    Key_metrics = root.findall('{urn:schemas-microsoft-com:office:spreadsheet}Worksheet')[0]\n",
    "\n",
    "    rows = Key_metrics.findall('{}Table/{}Row'.format(ss,ss))\n",
    "\n",
    "    # Column Name\n",
    "    row_name = rows[0]\n",
    "\n",
    "    columns = []\n",
    "    for col_name in row_name.findall('{}Cell/{}Data'.format(ss,ss)):\n",
    "        columns.append(col_name.text)\n",
    "\n",
    "    # Data\n",
    "    row_data = rows[2:]\n",
    "\n",
    "    data = []\n",
    "    for row_d in row_data:\n",
    "        array = []\n",
    "        for cell in row_d.findall('{}Cell/{}Data'.format(ss,ss)):\n",
    "            array.append(cell.text)\n",
    "        data.append(array)\n",
    "\n",
    "    df = pd.DataFrame(np.array(data), columns=columns)\n",
    "\n",
    "    # Cleaning dataframe\n",
    "    columns = ['Post ID', 'Permalink', 'Type', 'Posted', \\\n",
    "               'Lifetime Post Total Reach', 'Lifetime Post Total Impressions',\\\n",
    "              'Lifetime Matched Audience Targeting Consumptions on Post']\n",
    "    df_Key_metrics = df[columns]\n",
    "    \n",
    "    \n",
    "    \n",
    "    Lifetime_Talking_About_This = root.findall('{urn:schemas-microsoft-com:office:spreadsheet}Worksheet')[1]\n",
    "\n",
    "    rows = Lifetime_Talking_About_This.findall('{}Table/{}Row'.format(ss,ss))\n",
    "\n",
    "    # Column Name\n",
    "    row_name = rows[0]\n",
    "\n",
    "    columns = []\n",
    "    for col_name in row_name.findall('{}Cell/{}Data'.format(ss,ss)):\n",
    "        columns.append(col_name.text)\n",
    "\n",
    "\n",
    "    # Data\n",
    "    row_data = rows[1:]\n",
    "\n",
    "    data = []\n",
    "    for row_d in row_data:\n",
    "        array = []\n",
    "        for cell in row_d.findall('{}Cell/{}Data'.format(ss,ss)):\n",
    "            array.append(cell.text)\n",
    "        data.append(array)\n",
    "\n",
    "    df = pd.DataFrame(np.array(data), columns=columns)\n",
    "\n",
    "    if 'like' not in df.columns:\n",
    "        df['like'] = None\n",
    "    if 'share' not in df.columns:\n",
    "        df['share'] = None\n",
    "    if 'comment' not in df.columns:\n",
    "        df['comment'] = None\n",
    "\n",
    "    # Clearning Dataframe\n",
    "    columns = ['Post ID', 'like', 'share', 'comment']\n",
    "    df_Lifetime_Talking_About_This = df[columns]\n",
    "    \n",
    "    \n",
    "    \n",
    "    df = pd.merge(df_Key_metrics, df_Lifetime_Talking_About_This, on='Post ID')\n",
    "\n",
    "    df = df.rename(columns={'Posted': 'Date','Lifetime Post Total Reach': \"Reach\", 'Lifetime Post Total Impressions': \"Impression\", \\\n",
    "                     'Lifetime Matched Audience Targeting Consumptions on Post': \"Post Click\"})\n",
    "\n",
    "    df = df.fillna(0)\n",
    "    \n",
    "    # Merge all data\n",
    "    result = pd.concat([result, df])\n",
    "\n",
    "result = result.reset_index(drop=True)\n",
    "\n",
    "result[:1]"
   ]
  },
  {
   "cell_type": "code",
   "execution_count": 4,
   "metadata": {
    "_kg_hide-input": true,
    "execution": {
     "iopub.execute_input": "2021-02-16T02:31:21.654197Z",
     "iopub.status.busy": "2021-02-16T02:31:21.653614Z",
     "iopub.status.idle": "2021-02-16T02:31:21.656425Z",
     "shell.execute_reply": "2021-02-16T02:31:21.655969Z"
    },
    "papermill": {
     "duration": 0.042779,
     "end_time": "2021-02-16T02:31:21.656524",
     "exception": false,
     "start_time": "2021-02-16T02:31:21.613745",
     "status": "completed"
    },
    "tags": []
   },
   "outputs": [],
   "source": [
    "# Change datatype of InvoiceDate as datetime type\n",
    "result['Date'] = pd.to_datetime(result['Date'])\n",
    "\n",
    "# Create new features\n",
    "result['date'] = result['Date'].dt.date   # df['date'].dt.normalize()  # Show only date\n",
    "result['day'] = result['Date'].dt.day\n",
    "result['month'] = result['Date'].dt.month\n",
    "result['year'] = result['Date'].dt.year\n",
    "result['hour'] = result['Date'].dt.hour\n",
    "result['dayofweek'] = result['Date'].dt.dayofweek\n",
    "result['dayofweek'] = result['dayofweek'].map( {0: '1_Mon', 1: '2_Tue', 2: '3_Wed', 3: '4_Thur', 4: '5_Fri', 5: '6_Sat', 6: '7_Sun'})"
   ]
  },
  {
   "cell_type": "code",
   "execution_count": 5,
   "metadata": {
    "_kg_hide-input": true,
    "execution": {
     "iopub.execute_input": "2021-02-16T02:31:21.709673Z",
     "iopub.status.busy": "2021-02-16T02:31:21.709066Z",
     "iopub.status.idle": "2021-02-16T02:31:21.711957Z",
     "shell.execute_reply": "2021-02-16T02:31:21.711521Z"
    },
    "papermill": {
     "duration": 0.034196,
     "end_time": "2021-02-16T02:31:21.712052",
     "exception": false,
     "start_time": "2021-02-16T02:31:21.677856",
     "status": "completed"
    },
    "tags": []
   },
   "outputs": [],
   "source": [
    "#result.dtypes\n",
    "result['Reach'] = result['Reach'].astype(int)\n",
    "result['Impression'] = result['Impression'].astype(int)\n",
    "result['Post Click'] = result['Post Click'].astype(int)\n",
    "result['like'] = result['like'].astype(int)\n",
    "result['share'] = result['share'].astype(int)\n",
    "result['comment'] = result['comment'].astype(int)\n",
    "result['Impression'] = result['Impression'].astype(int)"
   ]
  },
  {
   "cell_type": "code",
   "execution_count": 6,
   "metadata": {
    "_kg_hide-input": true,
    "execution": {
     "iopub.execute_input": "2021-02-16T02:31:21.760165Z",
     "iopub.status.busy": "2021-02-16T02:31:21.759462Z",
     "iopub.status.idle": "2021-02-16T02:31:21.777787Z",
     "shell.execute_reply": "2021-02-16T02:31:21.778239Z"
    },
    "papermill": {
     "duration": 0.044703,
     "end_time": "2021-02-16T02:31:21.778356",
     "exception": false,
     "start_time": "2021-02-16T02:31:21.733653",
     "status": "completed"
    },
    "tags": []
   },
   "outputs": [],
   "source": [
    "# Engagment\n",
    "result['engagement'] = result['Post Click'] + result['like'] + result['share'] + result['comment']"
   ]
  },
  {
   "cell_type": "markdown",
   "metadata": {
    "papermill": {
     "duration": 0.021654,
     "end_time": "2021-02-16T02:31:21.822027",
     "exception": false,
     "start_time": "2021-02-16T02:31:21.800373",
     "status": "completed"
    },
    "tags": []
   },
   "source": [
    "# DATA ANALYSIS"
   ]
  },
  {
   "cell_type": "markdown",
   "metadata": {
    "papermill": {
     "duration": 0.022762,
     "end_time": "2021-02-16T02:31:21.866605",
     "exception": false,
     "start_time": "2021-02-16T02:31:21.843843",
     "status": "completed"
    },
    "tags": []
   },
   "source": [
    "## 1. Timeline of the dataset"
   ]
  },
  {
   "cell_type": "code",
   "execution_count": 7,
   "metadata": {
    "_kg_hide-input": true,
    "execution": {
     "iopub.execute_input": "2021-02-16T02:31:21.915004Z",
     "iopub.status.busy": "2021-02-16T02:31:21.914356Z",
     "iopub.status.idle": "2021-02-16T02:31:21.922207Z",
     "shell.execute_reply": "2021-02-16T02:31:21.921652Z"
    },
    "papermill": {
     "duration": 0.033092,
     "end_time": "2021-02-16T02:31:21.922303",
     "exception": false,
     "start_time": "2021-02-16T02:31:21.889211",
     "status": "completed"
    },
    "tags": []
   },
   "outputs": [
    {
     "name": "stdout",
     "output_type": "stream",
     "text": [
      "From 2018-01-12 to 2020-10-28\n"
     ]
    }
   ],
   "source": [
    "oldest_Post = result['Date'].min().date()\n",
    "most_recent_Post = result['Date'].max().date()\n",
    "print('From', oldest_Post, 'to', most_recent_Post)"
   ]
  },
  {
   "cell_type": "markdown",
   "metadata": {
    "papermill": {
     "duration": 0.023821,
     "end_time": "2021-02-16T02:31:21.969775",
     "exception": false,
     "start_time": "2021-02-16T02:31:21.945954",
     "status": "completed"
    },
    "tags": []
   },
   "source": [
    "## 2. Top 5 most Reach post"
   ]
  },
  {
   "cell_type": "code",
   "execution_count": 8,
   "metadata": {
    "_kg_hide-input": true,
    "execution": {
     "iopub.execute_input": "2021-02-16T02:31:22.034222Z",
     "iopub.status.busy": "2021-02-16T02:31:22.023715Z",
     "iopub.status.idle": "2021-02-16T02:31:22.038023Z",
     "shell.execute_reply": "2021-02-16T02:31:22.038525Z"
    },
    "papermill": {
     "duration": 0.044611,
     "end_time": "2021-02-16T02:31:22.038656",
     "exception": false,
     "start_time": "2021-02-16T02:31:21.994045",
     "status": "completed"
    },
    "tags": []
   },
   "outputs": [
    {
     "data": {
      "text/html": [
       "<div>\n",
       "<style scoped>\n",
       "    .dataframe tbody tr th:only-of-type {\n",
       "        vertical-align: middle;\n",
       "    }\n",
       "\n",
       "    .dataframe tbody tr th {\n",
       "        vertical-align: top;\n",
       "    }\n",
       "\n",
       "    .dataframe thead th {\n",
       "        text-align: right;\n",
       "    }\n",
       "</style>\n",
       "<table border=\"1\" class=\"dataframe\">\n",
       "  <thead>\n",
       "    <tr style=\"text-align: right;\">\n",
       "      <th></th>\n",
       "      <th>Post ID</th>\n",
       "      <th>Permalink</th>\n",
       "      <th>Date</th>\n",
       "      <th>Reach</th>\n",
       "      <th>Impression</th>\n",
       "      <th>Post Click</th>\n",
       "      <th>like</th>\n",
       "      <th>share</th>\n",
       "      <th>comment</th>\n",
       "      <th>engagement</th>\n",
       "    </tr>\n",
       "  </thead>\n",
       "  <tbody>\n",
       "    <tr>\n",
       "      <th>13</th>\n",
       "      <td>127033344034200_3845710925499738</td>\n",
       "      <td>https://www.facebook.com/goPOPCORN/posts/38457...</td>\n",
       "      <td>2020-05-21 11:00:47</td>\n",
       "      <td>792</td>\n",
       "      <td>945</td>\n",
       "      <td>4</td>\n",
       "      <td>6</td>\n",
       "      <td>0</td>\n",
       "      <td>1</td>\n",
       "      <td>11</td>\n",
       "    </tr>\n",
       "    <tr>\n",
       "      <th>36</th>\n",
       "      <td>127033344034200_3405418649528970</td>\n",
       "      <td>https://www.facebook.com/goPOPCORN/posts/34054...</td>\n",
       "      <td>2020-01-22 12:58:01</td>\n",
       "      <td>521</td>\n",
       "      <td>559</td>\n",
       "      <td>44</td>\n",
       "      <td>23</td>\n",
       "      <td>1</td>\n",
       "      <td>3</td>\n",
       "      <td>71</td>\n",
       "    </tr>\n",
       "    <tr>\n",
       "      <th>42</th>\n",
       "      <td>127033344034200_2470134936390684</td>\n",
       "      <td>https://www.facebook.com/goPOPCORN/posts/24701...</td>\n",
       "      <td>2019-02-19 12:48:01</td>\n",
       "      <td>299</td>\n",
       "      <td>389</td>\n",
       "      <td>17</td>\n",
       "      <td>7</td>\n",
       "      <td>0</td>\n",
       "      <td>0</td>\n",
       "      <td>24</td>\n",
       "    </tr>\n",
       "    <tr>\n",
       "      <th>39</th>\n",
       "      <td>127033344034200_2630197263717783</td>\n",
       "      <td>https://www.facebook.com/goPOPCORN/posts/26301...</td>\n",
       "      <td>2019-05-01 21:41:12</td>\n",
       "      <td>267</td>\n",
       "      <td>352</td>\n",
       "      <td>34</td>\n",
       "      <td>2</td>\n",
       "      <td>0</td>\n",
       "      <td>0</td>\n",
       "      <td>36</td>\n",
       "    </tr>\n",
       "    <tr>\n",
       "      <th>57</th>\n",
       "      <td>127033344034200_3917628414974655</td>\n",
       "      <td>https://www.facebook.com/goPOPCORN/posts/39176...</td>\n",
       "      <td>2020-06-08 11:00:11</td>\n",
       "      <td>243</td>\n",
       "      <td>268</td>\n",
       "      <td>6</td>\n",
       "      <td>6</td>\n",
       "      <td>1</td>\n",
       "      <td>0</td>\n",
       "      <td>13</td>\n",
       "    </tr>\n",
       "  </tbody>\n",
       "</table>\n",
       "</div>"
      ],
      "text/plain": [
       "                             Post ID  \\\n",
       "13  127033344034200_3845710925499738   \n",
       "36  127033344034200_3405418649528970   \n",
       "42  127033344034200_2470134936390684   \n",
       "39  127033344034200_2630197263717783   \n",
       "57  127033344034200_3917628414974655   \n",
       "\n",
       "                                            Permalink                Date  \\\n",
       "13  https://www.facebook.com/goPOPCORN/posts/38457... 2020-05-21 11:00:47   \n",
       "36  https://www.facebook.com/goPOPCORN/posts/34054... 2020-01-22 12:58:01   \n",
       "42  https://www.facebook.com/goPOPCORN/posts/24701... 2019-02-19 12:48:01   \n",
       "39  https://www.facebook.com/goPOPCORN/posts/26301... 2019-05-01 21:41:12   \n",
       "57  https://www.facebook.com/goPOPCORN/posts/39176... 2020-06-08 11:00:11   \n",
       "\n",
       "    Reach  Impression  Post Click  like  share  comment  engagement  \n",
       "13    792         945           4     6      0        1          11  \n",
       "36    521         559          44    23      1        3          71  \n",
       "42    299         389          17     7      0        0          24  \n",
       "39    267         352          34     2      0        0          36  \n",
       "57    243         268           6     6      1        0          13  "
      ]
     },
     "execution_count": 8,
     "metadata": {},
     "output_type": "execute_result"
    }
   ],
   "source": [
    "columns_display = ['Post ID', 'Permalink', 'Date', 'Reach', 'Impression', 'Post Click', 'like', 'share', 'comment', 'engagement']\n",
    "result.sort_values('Reach', ascending=False)[:5][columns_display]"
   ]
  },
  {
   "cell_type": "markdown",
   "metadata": {
    "papermill": {
     "duration": 0.023796,
     "end_time": "2021-02-16T02:31:22.086472",
     "exception": false,
     "start_time": "2021-02-16T02:31:22.062676",
     "status": "completed"
    },
    "tags": []
   },
   "source": [
    "## 3. Top 5 most Impression post"
   ]
  },
  {
   "cell_type": "code",
   "execution_count": 9,
   "metadata": {
    "_kg_hide-input": true,
    "execution": {
     "iopub.execute_input": "2021-02-16T02:31:22.138705Z",
     "iopub.status.busy": "2021-02-16T02:31:22.137811Z",
     "iopub.status.idle": "2021-02-16T02:31:22.153529Z",
     "shell.execute_reply": "2021-02-16T02:31:22.153988Z"
    },
    "papermill": {
     "duration": 0.043363,
     "end_time": "2021-02-16T02:31:22.154120",
     "exception": false,
     "start_time": "2021-02-16T02:31:22.110757",
     "status": "completed"
    },
    "tags": []
   },
   "outputs": [
    {
     "data": {
      "text/html": [
       "<div>\n",
       "<style scoped>\n",
       "    .dataframe tbody tr th:only-of-type {\n",
       "        vertical-align: middle;\n",
       "    }\n",
       "\n",
       "    .dataframe tbody tr th {\n",
       "        vertical-align: top;\n",
       "    }\n",
       "\n",
       "    .dataframe thead th {\n",
       "        text-align: right;\n",
       "    }\n",
       "</style>\n",
       "<table border=\"1\" class=\"dataframe\">\n",
       "  <thead>\n",
       "    <tr style=\"text-align: right;\">\n",
       "      <th></th>\n",
       "      <th>Post ID</th>\n",
       "      <th>Permalink</th>\n",
       "      <th>Date</th>\n",
       "      <th>Reach</th>\n",
       "      <th>Impression</th>\n",
       "      <th>Post Click</th>\n",
       "      <th>like</th>\n",
       "      <th>share</th>\n",
       "      <th>comment</th>\n",
       "      <th>engagement</th>\n",
       "    </tr>\n",
       "  </thead>\n",
       "  <tbody>\n",
       "    <tr>\n",
       "      <th>13</th>\n",
       "      <td>127033344034200_3845710925499738</td>\n",
       "      <td>https://www.facebook.com/goPOPCORN/posts/38457...</td>\n",
       "      <td>2020-05-21 11:00:47</td>\n",
       "      <td>792</td>\n",
       "      <td>945</td>\n",
       "      <td>4</td>\n",
       "      <td>6</td>\n",
       "      <td>0</td>\n",
       "      <td>1</td>\n",
       "      <td>11</td>\n",
       "    </tr>\n",
       "    <tr>\n",
       "      <th>36</th>\n",
       "      <td>127033344034200_3405418649528970</td>\n",
       "      <td>https://www.facebook.com/goPOPCORN/posts/34054...</td>\n",
       "      <td>2020-01-22 12:58:01</td>\n",
       "      <td>521</td>\n",
       "      <td>559</td>\n",
       "      <td>44</td>\n",
       "      <td>23</td>\n",
       "      <td>1</td>\n",
       "      <td>3</td>\n",
       "      <td>71</td>\n",
       "    </tr>\n",
       "    <tr>\n",
       "      <th>42</th>\n",
       "      <td>127033344034200_2470134936390684</td>\n",
       "      <td>https://www.facebook.com/goPOPCORN/posts/24701...</td>\n",
       "      <td>2019-02-19 12:48:01</td>\n",
       "      <td>299</td>\n",
       "      <td>389</td>\n",
       "      <td>17</td>\n",
       "      <td>7</td>\n",
       "      <td>0</td>\n",
       "      <td>0</td>\n",
       "      <td>24</td>\n",
       "    </tr>\n",
       "    <tr>\n",
       "      <th>39</th>\n",
       "      <td>127033344034200_2630197263717783</td>\n",
       "      <td>https://www.facebook.com/goPOPCORN/posts/26301...</td>\n",
       "      <td>2019-05-01 21:41:12</td>\n",
       "      <td>267</td>\n",
       "      <td>352</td>\n",
       "      <td>34</td>\n",
       "      <td>2</td>\n",
       "      <td>0</td>\n",
       "      <td>0</td>\n",
       "      <td>36</td>\n",
       "    </tr>\n",
       "    <tr>\n",
       "      <th>2</th>\n",
       "      <td>127033344034200_2283760711694775</td>\n",
       "      <td>https://www.facebook.com/goPOPCORN/posts/22837...</td>\n",
       "      <td>2018-11-21 20:17:54</td>\n",
       "      <td>219</td>\n",
       "      <td>288</td>\n",
       "      <td>20</td>\n",
       "      <td>3</td>\n",
       "      <td>0</td>\n",
       "      <td>0</td>\n",
       "      <td>23</td>\n",
       "    </tr>\n",
       "  </tbody>\n",
       "</table>\n",
       "</div>"
      ],
      "text/plain": [
       "                             Post ID  \\\n",
       "13  127033344034200_3845710925499738   \n",
       "36  127033344034200_3405418649528970   \n",
       "42  127033344034200_2470134936390684   \n",
       "39  127033344034200_2630197263717783   \n",
       "2   127033344034200_2283760711694775   \n",
       "\n",
       "                                            Permalink                Date  \\\n",
       "13  https://www.facebook.com/goPOPCORN/posts/38457... 2020-05-21 11:00:47   \n",
       "36  https://www.facebook.com/goPOPCORN/posts/34054... 2020-01-22 12:58:01   \n",
       "42  https://www.facebook.com/goPOPCORN/posts/24701... 2019-02-19 12:48:01   \n",
       "39  https://www.facebook.com/goPOPCORN/posts/26301... 2019-05-01 21:41:12   \n",
       "2   https://www.facebook.com/goPOPCORN/posts/22837... 2018-11-21 20:17:54   \n",
       "\n",
       "    Reach  Impression  Post Click  like  share  comment  engagement  \n",
       "13    792         945           4     6      0        1          11  \n",
       "36    521         559          44    23      1        3          71  \n",
       "42    299         389          17     7      0        0          24  \n",
       "39    267         352          34     2      0        0          36  \n",
       "2     219         288          20     3      0        0          23  "
      ]
     },
     "execution_count": 9,
     "metadata": {},
     "output_type": "execute_result"
    }
   ],
   "source": [
    "result.sort_values('Impression', ascending=False)[:5][columns_display]"
   ]
  },
  {
   "cell_type": "markdown",
   "metadata": {
    "papermill": {
     "duration": 0.024067,
     "end_time": "2021-02-16T02:31:22.202781",
     "exception": false,
     "start_time": "2021-02-16T02:31:22.178714",
     "status": "completed"
    },
    "tags": []
   },
   "source": [
    "## 4. Top 5 most Engagement (PostClick & Like & Share & Comment) post"
   ]
  },
  {
   "cell_type": "code",
   "execution_count": 10,
   "metadata": {
    "_kg_hide-input": true,
    "execution": {
     "iopub.execute_input": "2021-02-16T02:31:22.254641Z",
     "iopub.status.busy": "2021-02-16T02:31:22.253760Z",
     "iopub.status.idle": "2021-02-16T02:31:22.268560Z",
     "shell.execute_reply": "2021-02-16T02:31:22.268985Z"
    },
    "papermill": {
     "duration": 0.042264,
     "end_time": "2021-02-16T02:31:22.269117",
     "exception": false,
     "start_time": "2021-02-16T02:31:22.226853",
     "status": "completed"
    },
    "tags": []
   },
   "outputs": [
    {
     "data": {
      "text/html": [
       "<div>\n",
       "<style scoped>\n",
       "    .dataframe tbody tr th:only-of-type {\n",
       "        vertical-align: middle;\n",
       "    }\n",
       "\n",
       "    .dataframe tbody tr th {\n",
       "        vertical-align: top;\n",
       "    }\n",
       "\n",
       "    .dataframe thead th {\n",
       "        text-align: right;\n",
       "    }\n",
       "</style>\n",
       "<table border=\"1\" class=\"dataframe\">\n",
       "  <thead>\n",
       "    <tr style=\"text-align: right;\">\n",
       "      <th></th>\n",
       "      <th>Post ID</th>\n",
       "      <th>Permalink</th>\n",
       "      <th>Date</th>\n",
       "      <th>Reach</th>\n",
       "      <th>Impression</th>\n",
       "      <th>Post Click</th>\n",
       "      <th>like</th>\n",
       "      <th>share</th>\n",
       "      <th>comment</th>\n",
       "      <th>engagement</th>\n",
       "    </tr>\n",
       "  </thead>\n",
       "  <tbody>\n",
       "    <tr>\n",
       "      <th>36</th>\n",
       "      <td>127033344034200_3405418649528970</td>\n",
       "      <td>https://www.facebook.com/goPOPCORN/posts/34054...</td>\n",
       "      <td>2020-01-22 12:58:01</td>\n",
       "      <td>521</td>\n",
       "      <td>559</td>\n",
       "      <td>44</td>\n",
       "      <td>23</td>\n",
       "      <td>1</td>\n",
       "      <td>3</td>\n",
       "      <td>71</td>\n",
       "    </tr>\n",
       "    <tr>\n",
       "      <th>8</th>\n",
       "      <td>127033344034200_3078051985598973</td>\n",
       "      <td>https://www.facebook.com/goPOPCORN/posts/30780...</td>\n",
       "      <td>2019-10-14 16:23:08</td>\n",
       "      <td>215</td>\n",
       "      <td>264</td>\n",
       "      <td>42</td>\n",
       "      <td>5</td>\n",
       "      <td>0</td>\n",
       "      <td>0</td>\n",
       "      <td>47</td>\n",
       "    </tr>\n",
       "    <tr>\n",
       "      <th>39</th>\n",
       "      <td>127033344034200_2630197263717783</td>\n",
       "      <td>https://www.facebook.com/goPOPCORN/posts/26301...</td>\n",
       "      <td>2019-05-01 21:41:12</td>\n",
       "      <td>267</td>\n",
       "      <td>352</td>\n",
       "      <td>34</td>\n",
       "      <td>2</td>\n",
       "      <td>0</td>\n",
       "      <td>0</td>\n",
       "      <td>36</td>\n",
       "    </tr>\n",
       "    <tr>\n",
       "      <th>4</th>\n",
       "      <td>127033344034200_3280026595401510</td>\n",
       "      <td>https://www.facebook.com/goPOPCORN/photos/a.12...</td>\n",
       "      <td>2019-12-14 17:12:33</td>\n",
       "      <td>220</td>\n",
       "      <td>235</td>\n",
       "      <td>30</td>\n",
       "      <td>6</td>\n",
       "      <td>0</td>\n",
       "      <td>0</td>\n",
       "      <td>36</td>\n",
       "    </tr>\n",
       "    <tr>\n",
       "      <th>32</th>\n",
       "      <td>127033344034200_3537169523020548</td>\n",
       "      <td>https://www.facebook.com/goPOPCORN/photos/a.12...</td>\n",
       "      <td>2020-03-03 13:00:54</td>\n",
       "      <td>159</td>\n",
       "      <td>160</td>\n",
       "      <td>24</td>\n",
       "      <td>0</td>\n",
       "      <td>0</td>\n",
       "      <td>2</td>\n",
       "      <td>26</td>\n",
       "    </tr>\n",
       "  </tbody>\n",
       "</table>\n",
       "</div>"
      ],
      "text/plain": [
       "                             Post ID  \\\n",
       "36  127033344034200_3405418649528970   \n",
       "8   127033344034200_3078051985598973   \n",
       "39  127033344034200_2630197263717783   \n",
       "4   127033344034200_3280026595401510   \n",
       "32  127033344034200_3537169523020548   \n",
       "\n",
       "                                            Permalink                Date  \\\n",
       "36  https://www.facebook.com/goPOPCORN/posts/34054... 2020-01-22 12:58:01   \n",
       "8   https://www.facebook.com/goPOPCORN/posts/30780... 2019-10-14 16:23:08   \n",
       "39  https://www.facebook.com/goPOPCORN/posts/26301... 2019-05-01 21:41:12   \n",
       "4   https://www.facebook.com/goPOPCORN/photos/a.12... 2019-12-14 17:12:33   \n",
       "32  https://www.facebook.com/goPOPCORN/photos/a.12... 2020-03-03 13:00:54   \n",
       "\n",
       "    Reach  Impression  Post Click  like  share  comment  engagement  \n",
       "36    521         559          44    23      1        3          71  \n",
       "8     215         264          42     5      0        0          47  \n",
       "39    267         352          34     2      0        0          36  \n",
       "4     220         235          30     6      0        0          36  \n",
       "32    159         160          24     0      0        2          26  "
      ]
     },
     "execution_count": 10,
     "metadata": {},
     "output_type": "execute_result"
    }
   ],
   "source": [
    "result.sort_values('engagement', ascending=False)[:5][columns_display]"
   ]
  },
  {
   "cell_type": "markdown",
   "metadata": {
    "papermill": {
     "duration": 0.024706,
     "end_time": "2021-02-16T02:31:22.318737",
     "exception": false,
     "start_time": "2021-02-16T02:31:22.294031",
     "status": "completed"
    },
    "tags": []
   },
   "source": [
    "## 5. Impression Performance"
   ]
  },
  {
   "cell_type": "markdown",
   "metadata": {
    "papermill": {
     "duration": 0.024457,
     "end_time": "2021-02-16T02:31:22.367603",
     "exception": false,
     "start_time": "2021-02-16T02:31:22.343146",
     "status": "completed"
    },
    "tags": []
   },
   "source": [
    "### 5.1 Impression Performance over 24h day\n",
    "- The 1st graph (Total posts across 24h)\n",
    "    - We tend to publish post at 17 o'clock, 10 posts in total, followed by 12, 11, 10 o'clock.\n",
    "\n",
    "\n",
    "- The 2nd graph (The number of impressions across 24h day)\n",
    "    - 11 and 12 o'clock posts have less in numbers compared to 17 o'clock but generate most impressions, above 1600 for each.\n",
    "    - 10 o'clock sharing the same posts number with 11 o'clock (1st graph) acquire only 600 impressions.\n",
    "\n",
    "\n",
    "- The 3rd graph (Average post impressions in a day)\n",
    "    - Noticed that posts at 11 am is currently on the top, while posts at 12, 20, 21, 23 o'clock share similar numbers.\n",
    "    - However, high number of impressions could be derived from holiday, or any particular event.\n",
    "\n",
    "\n",
    "- The 4th graph (Median post impressions in a day)\n",
    "    - Following the 3rd graph, applying median to remove outliers, thus noticing posts at 20, 21, 23 o'clock are quite promising.\n",
    "    - But taking a look at the 1st graph, there are only 3 posts at 20 o'cock, 2 at 21 o'clock, 1 at 22 o'clock, and 2 at 23 o'clock. The data is not totally reliable.\n",
    "    \n",
    "\n",
    "#### Recommendation\n",
    "    - Therefore, we should take this time interval (from 20 to 23 o'clock) into account , and create posts around this period and keep track of their performance."
   ]
  },
  {
   "cell_type": "code",
   "execution_count": 11,
   "metadata": {
    "_kg_hide-input": true,
    "execution": {
     "iopub.execute_input": "2021-02-16T02:31:22.420237Z",
     "iopub.status.busy": "2021-02-16T02:31:22.419294Z",
     "iopub.status.idle": "2021-02-16T02:31:23.337103Z",
     "shell.execute_reply": "2021-02-16T02:31:23.336339Z"
    },
    "papermill": {
     "duration": 0.944978,
     "end_time": "2021-02-16T02:31:23.337216",
     "exception": false,
     "start_time": "2021-02-16T02:31:22.392238",
     "status": "completed"
    },
    "tags": []
   },
   "outputs": [
    {
     "data": {
      "image/png": "[encoded data removed]",
      "text/plain": [
       "<Figure size 1296x864 with 4 Axes>"
      ]
     },
     "metadata": {
      "needs_background": "light"
     },
     "output_type": "display_data"
    },
    {
     "data": {
      "text/html": [
       "<div>\n",
       "<style scoped>\n",
       "    .dataframe tbody tr th:only-of-type {\n",
       "        vertical-align: middle;\n",
       "    }\n",
       "\n",
       "    .dataframe tbody tr th {\n",
       "        vertical-align: top;\n",
       "    }\n",
       "\n",
       "    .dataframe thead tr th {\n",
       "        text-align: left;\n",
       "    }\n",
       "\n",
       "    .dataframe thead tr:last-of-type th {\n",
       "        text-align: right;\n",
       "    }\n",
       "</style>\n",
       "<table border=\"1\" class=\"dataframe\">\n",
       "  <thead>\n",
       "    <tr>\n",
       "      <th></th>\n",
       "      <th colspan=\"4\" halign=\"left\">Impression</th>\n",
       "    </tr>\n",
       "    <tr>\n",
       "      <th></th>\n",
       "      <th>count</th>\n",
       "      <th>sum</th>\n",
       "      <th>mean</th>\n",
       "      <th>median</th>\n",
       "    </tr>\n",
       "    <tr>\n",
       "      <th>hour</th>\n",
       "      <th></th>\n",
       "      <th></th>\n",
       "      <th></th>\n",
       "      <th></th>\n",
       "    </tr>\n",
       "  </thead>\n",
       "  <tbody>\n",
       "    <tr>\n",
       "      <th>9</th>\n",
       "      <td>3</td>\n",
       "      <td>275</td>\n",
       "      <td>91.666667</td>\n",
       "      <td>97.0</td>\n",
       "    </tr>\n",
       "    <tr>\n",
       "      <th>10</th>\n",
       "      <td>6</td>\n",
       "      <td>591</td>\n",
       "      <td>98.500000</td>\n",
       "      <td>82.0</td>\n",
       "    </tr>\n",
       "    <tr>\n",
       "      <th>11</th>\n",
       "      <td>6</td>\n",
       "      <td>1697</td>\n",
       "      <td>282.833333</td>\n",
       "      <td>146.0</td>\n",
       "    </tr>\n",
       "    <tr>\n",
       "      <th>12</th>\n",
       "      <td>7</td>\n",
       "      <td>1637</td>\n",
       "      <td>233.857143</td>\n",
       "      <td>168.0</td>\n",
       "    </tr>\n",
       "    <tr>\n",
       "      <th>13</th>\n",
       "      <td>4</td>\n",
       "      <td>330</td>\n",
       "      <td>82.500000</td>\n",
       "      <td>85.0</td>\n",
       "    </tr>\n",
       "    <tr>\n",
       "      <th>14</th>\n",
       "      <td>5</td>\n",
       "      <td>746</td>\n",
       "      <td>149.200000</td>\n",
       "      <td>134.0</td>\n",
       "    </tr>\n",
       "    <tr>\n",
       "      <th>15</th>\n",
       "      <td>2</td>\n",
       "      <td>394</td>\n",
       "      <td>197.000000</td>\n",
       "      <td>197.0</td>\n",
       "    </tr>\n",
       "    <tr>\n",
       "      <th>16</th>\n",
       "      <td>3</td>\n",
       "      <td>364</td>\n",
       "      <td>121.333333</td>\n",
       "      <td>100.0</td>\n",
       "    </tr>\n",
       "    <tr>\n",
       "      <th>17</th>\n",
       "      <td>10</td>\n",
       "      <td>1343</td>\n",
       "      <td>134.300000</td>\n",
       "      <td>128.5</td>\n",
       "    </tr>\n",
       "    <tr>\n",
       "      <th>18</th>\n",
       "      <td>5</td>\n",
       "      <td>552</td>\n",
       "      <td>110.400000</td>\n",
       "      <td>94.0</td>\n",
       "    </tr>\n",
       "    <tr>\n",
       "      <th>20</th>\n",
       "      <td>3</td>\n",
       "      <td>731</td>\n",
       "      <td>243.666667</td>\n",
       "      <td>230.0</td>\n",
       "    </tr>\n",
       "    <tr>\n",
       "      <th>21</th>\n",
       "      <td>2</td>\n",
       "      <td>506</td>\n",
       "      <td>253.000000</td>\n",
       "      <td>253.0</td>\n",
       "    </tr>\n",
       "    <tr>\n",
       "      <th>22</th>\n",
       "      <td>1</td>\n",
       "      <td>0</td>\n",
       "      <td>0.000000</td>\n",
       "      <td>0.0</td>\n",
       "    </tr>\n",
       "    <tr>\n",
       "      <th>23</th>\n",
       "      <td>2</td>\n",
       "      <td>498</td>\n",
       "      <td>249.000000</td>\n",
       "      <td>249.0</td>\n",
       "    </tr>\n",
       "  </tbody>\n",
       "</table>\n",
       "</div>"
      ],
      "text/plain": [
       "     Impression                         \n",
       "          count   sum        mean median\n",
       "hour                                    \n",
       "9             3   275   91.666667   97.0\n",
       "10            6   591   98.500000   82.0\n",
       "11            6  1697  282.833333  146.0\n",
       "12            7  1637  233.857143  168.0\n",
       "13            4   330   82.500000   85.0\n",
       "14            5   746  149.200000  134.0\n",
       "15            2   394  197.000000  197.0\n",
       "16            3   364  121.333333  100.0\n",
       "17           10  1343  134.300000  128.5\n",
       "18            5   552  110.400000   94.0\n",
       "20            3   731  243.666667  230.0\n",
       "21            2   506  253.000000  253.0\n",
       "22            1     0    0.000000    0.0\n",
       "23            2   498  249.000000  249.0"
      ]
     },
     "execution_count": 11,
     "metadata": {},
     "output_type": "execute_result"
    }
   ],
   "source": [
    "hour_impression = result.groupby(['hour'])['Impression'].agg(['count','sum','mean','median'])\n",
    "\n",
    "\n",
    "fig, axes = plt.subplots(2, 2, figsize=(18, 12))\n",
    "axes = axes.flatten()\n",
    "\n",
    "sns.barplot(x=hour_impression.index, y=hour_impression['count'], ax=axes[0]).set_title(\"Total posts across 24h day\")\n",
    "plt.ylabel('a')\n",
    "plt.xticks(rotation=90)\n",
    "\n",
    "sns.barplot(x=hour_impression.index, y=hour_impression['sum'], ax=axes[1]).set_title(\"The number of impressions across 24h day\")\n",
    "plt.ylabel('a')\n",
    "plt.xticks(rotation=90)\n",
    "\n",
    "sns.barplot(x=hour_impression.index, y=hour_impression['mean'], ax=axes[2]).set_title(\"Average post impressions in a day\")\n",
    "plt.ylabel('a')\n",
    "plt.xticks(rotation=90)\n",
    "\n",
    "sns.barplot(x=hour_impression.index, y=hour_impression['median'], ax=axes[3]).set_title(\"Median post impressions in a day\")\n",
    "plt.ylabel('median')\n",
    "plt.xticks(rotation=0)\n",
    "\n",
    "plt.show()\n",
    "\n",
    "result.groupby(['hour'])[['Impression']].agg(['count','sum','mean','median'])"
   ]
  },
  {
   "cell_type": "markdown",
   "metadata": {
    "papermill": {
     "duration": 0.026336,
     "end_time": "2021-02-16T02:31:23.391042",
     "exception": false,
     "start_time": "2021-02-16T02:31:23.364706",
     "status": "completed"
    },
    "tags": []
   },
   "source": [
    "### 5.2 Impression Performance over a 7-day week\n",
    "- The 1st post (Total posts over a week)\n",
    "    - We have the highest number of posts, 13, on Wednesday, followed by on Monday, Tuesday, and Friday respectively.\n",
    "    \n",
    "    \n",
    "- The 2nd post (Total Impressions over a week)\n",
    "    - For having the most post numbers on Wednesday (1st graph), thus having the highest total impression, around 2600, is quite reasonable.\n",
    "    - Notice the impression numbers on both Thursday and Friday is opposite of their total number of posts (1st graph). With only 6 posts on Thursday, it accounts for 1800 impressions, almost equals to the impression figures on Monday and Tuesday, while 10 posts on Friday generates less than 1000 impressions.\n",
    "    \n",
    "\n",
    "- The 3rd post (Average Impressions of each post over a week)\n",
    "    - Following the 2nd post, average post impressions on Thursday is at the highest point, around 284 impressions per post.\n",
    "    - However, it (Thursday's average post impressions) is not totally a reliable number. Because 1 or more out of 6 posts could be on Holiday or on seasonal period or include particual engaging hashtags, thus creating large quanity of impressions.\n",
    "\n",
    "\n",
    "- The 4th post (Median Impressions of each post over a week)\n",
    "    - Following the 3rd post, applying median method to remove some outliers in data.\n",
    "    - The highest impressions is on Wednesday, followed by Tuesday. Monday, Thursday, Sunday share the third position.\n",
    "    \n",
    "    \n",
    "#### Recommendation\n",
    "    - Have posts published on Monday, Tuesday, Wednesday, Thursday, and Sunday.\n",
    "    - Post on wednesday tend to expose to most people, thus being useful for running 'Brand Awareness' campaign."
   ]
  },
  {
   "cell_type": "code",
   "execution_count": 12,
   "metadata": {
    "_kg_hide-input": true,
    "execution": {
     "iopub.execute_input": "2021-02-16T02:31:23.463166Z",
     "iopub.status.busy": "2021-02-16T02:31:23.457955Z",
     "iopub.status.idle": "2021-02-16T02:31:24.018269Z",
     "shell.execute_reply": "2021-02-16T02:31:24.018740Z"
    },
    "papermill": {
     "duration": 0.601911,
     "end_time": "2021-02-16T02:31:24.018883",
     "exception": false,
     "start_time": "2021-02-16T02:31:23.416972",
     "status": "completed"
    },
    "tags": []
   },
   "outputs": [
    {
     "data": {
      "image/png": "[encoded data removed]",
      "text/plain": [
       "<Figure size 1296x864 with 4 Axes>"
      ]
     },
     "metadata": {
      "needs_background": "light"
     },
     "output_type": "display_data"
    },
    {
     "data": {
      "text/html": [
       "<div>\n",
       "<style scoped>\n",
       "    .dataframe tbody tr th:only-of-type {\n",
       "        vertical-align: middle;\n",
       "    }\n",
       "\n",
       "    .dataframe tbody tr th {\n",
       "        vertical-align: top;\n",
       "    }\n",
       "\n",
       "    .dataframe thead tr th {\n",
       "        text-align: left;\n",
       "    }\n",
       "\n",
       "    .dataframe thead tr:last-of-type th {\n",
       "        text-align: right;\n",
       "    }\n",
       "</style>\n",
       "<table border=\"1\" class=\"dataframe\">\n",
       "  <thead>\n",
       "    <tr>\n",
       "      <th></th>\n",
       "      <th colspan=\"4\" halign=\"left\">Impression</th>\n",
       "    </tr>\n",
       "    <tr>\n",
       "      <th></th>\n",
       "      <th>count</th>\n",
       "      <th>sum</th>\n",
       "      <th>mean</th>\n",
       "      <th>median</th>\n",
       "    </tr>\n",
       "    <tr>\n",
       "      <th>dayofweek</th>\n",
       "      <th></th>\n",
       "      <th></th>\n",
       "      <th></th>\n",
       "      <th></th>\n",
       "    </tr>\n",
       "  </thead>\n",
       "  <tbody>\n",
       "    <tr>\n",
       "      <th>1_Mon</th>\n",
       "      <td>12</td>\n",
       "      <td>1836</td>\n",
       "      <td>153.000000</td>\n",
       "      <td>147.5</td>\n",
       "    </tr>\n",
       "    <tr>\n",
       "      <th>2_Tue</th>\n",
       "      <td>11</td>\n",
       "      <td>1880</td>\n",
       "      <td>170.909091</td>\n",
       "      <td>160.0</td>\n",
       "    </tr>\n",
       "    <tr>\n",
       "      <th>3_Wed</th>\n",
       "      <td>13</td>\n",
       "      <td>2642</td>\n",
       "      <td>203.230769</td>\n",
       "      <td>171.0</td>\n",
       "    </tr>\n",
       "    <tr>\n",
       "      <th>4_Thur</th>\n",
       "      <td>6</td>\n",
       "      <td>1704</td>\n",
       "      <td>284.000000</td>\n",
       "      <td>148.0</td>\n",
       "    </tr>\n",
       "    <tr>\n",
       "      <th>5_Fri</th>\n",
       "      <td>10</td>\n",
       "      <td>830</td>\n",
       "      <td>83.000000</td>\n",
       "      <td>81.0</td>\n",
       "    </tr>\n",
       "    <tr>\n",
       "      <th>6_Sat</th>\n",
       "      <td>5</td>\n",
       "      <td>484</td>\n",
       "      <td>96.800000</td>\n",
       "      <td>83.0</td>\n",
       "    </tr>\n",
       "    <tr>\n",
       "      <th>7_Sun</th>\n",
       "      <td>2</td>\n",
       "      <td>288</td>\n",
       "      <td>144.000000</td>\n",
       "      <td>144.0</td>\n",
       "    </tr>\n",
       "  </tbody>\n",
       "</table>\n",
       "</div>"
      ],
      "text/plain": [
       "          Impression                         \n",
       "               count   sum        mean median\n",
       "dayofweek                                    \n",
       "1_Mon             12  1836  153.000000  147.5\n",
       "2_Tue             11  1880  170.909091  160.0\n",
       "3_Wed             13  2642  203.230769  171.0\n",
       "4_Thur             6  1704  284.000000  148.0\n",
       "5_Fri             10   830   83.000000   81.0\n",
       "6_Sat              5   484   96.800000   83.0\n",
       "7_Sun              2   288  144.000000  144.0"
      ]
     },
     "execution_count": 12,
     "metadata": {},
     "output_type": "execute_result"
    }
   ],
   "source": [
    "dayofweek_impression = result.groupby(['dayofweek'])['Impression'].agg(['count','sum','mean','median'])\n",
    "\n",
    "\n",
    "fig, axes = plt.subplots(2, 2, figsize=(18, 12))\n",
    "axes = axes.flatten()\n",
    "\n",
    "sns.barplot(x=dayofweek_impression.index, y=dayofweek_impression['count'], ax=axes[0]).set_title(\"Total posts over a week\")\n",
    "plt.ylabel('count')\n",
    "plt.xticks(rotation=90)\n",
    "\n",
    "sns.barplot(x=dayofweek_impression.index, y=dayofweek_impression['sum'], ax=axes[1]).set_title(\"Total Impressions over a week\")\n",
    "plt.ylabel('sum')\n",
    "plt.xticks(rotation=90)\n",
    "\n",
    "sns.barplot(x=dayofweek_impression.index, y=dayofweek_impression['mean'], ax=axes[2]).set_title(\"Average Impressions of each post over a week\")\n",
    "plt.ylabel('mean')\n",
    "plt.xticks(rotation=90)\n",
    "\n",
    "sns.barplot(x=dayofweek_impression.index, y=dayofweek_impression['median'], ax=axes[3]).set_title(\"Median Impressions of each post over a week\")\n",
    "plt.ylabel('median')\n",
    "plt.xticks(rotation=90)\n",
    "\n",
    "plt.show()\n",
    "\n",
    "result.groupby(['dayofweek'])[['Impression']].agg(['count','sum','mean','median'])"
   ]
  },
  {
   "cell_type": "markdown",
   "metadata": {
    "papermill": {
     "duration": 0.02987,
     "end_time": "2021-02-16T02:31:24.079296",
     "exception": false,
     "start_time": "2021-02-16T02:31:24.049426",
     "status": "completed"
    },
    "tags": []
   },
   "source": [
    "### 5.3 Impression Performance over a 12-month year\n",
    "- The 1st post (Total posts over a year)\n",
    "    - Having 11 posts in October, the highest number among 12 months.\n",
    "    - August and September are at the bottom of the list with only 1 post.\n",
    "    \n",
    "    \n",
    "- The 2nd post (Total Impressions over a year)\n",
    "    - The number of impressions in May is the highest, over 2000, derived from 9 posts (1st graph).\n",
    "\n",
    "\n",
    "- The 3rd post (Average Impressions of each post over a year)\n",
    "    - Impression number in September is the highest, derived from 1 post only, thus we can't say a post in Sep performs better than those in other months.\n",
    "\n",
    "\n",
    "- The 4th post (Median Impressions of each post over a year)\n",
    "    - Taking a look at 'Nov' and 'Dec' columns in the 3rd graph with those in the 4th graph, they share the same pattern. It means posts in this interval have stable performance, having no outliers.\n",
    "    - 'Feb', 'May' columns in the 3rd and 4th graph is quite different, meaning outlier happens here. Investigate which posts drived lots of impressions in 'Feb' and 'May' at which time period and if they contained any special hashtags or stories.\n",
    "    \n",
    "    \n",
    "#### Recommendation\n",
    "    - Looking at a post in Sep and figuring out why we published only 1 post, which performed quite well at this time.\n",
    "    - Looking for an outlier post in 'Feb', 'May', finding out why they performed well.\n",
    "    - Having more posts in 'Nov', 'Dec', and less in 'Oct'."
   ]
  },
  {
   "cell_type": "code",
   "execution_count": 13,
   "metadata": {
    "_kg_hide-input": true,
    "execution": {
     "iopub.execute_input": "2021-02-16T02:31:24.156427Z",
     "iopub.status.busy": "2021-02-16T02:31:24.155786Z",
     "iopub.status.idle": "2021-02-16T02:31:24.908660Z",
     "shell.execute_reply": "2021-02-16T02:31:24.909113Z"
    },
    "papermill": {
     "duration": 0.799989,
     "end_time": "2021-02-16T02:31:24.909277",
     "exception": false,
     "start_time": "2021-02-16T02:31:24.109288",
     "status": "completed"
    },
    "tags": []
   },
   "outputs": [
    {
     "data": {
      "image/png": "[encoded data removed]",
      "text/plain": [
       "<Figure size 1296x864 with 4 Axes>"
      ]
     },
     "metadata": {
      "needs_background": "light"
     },
     "output_type": "display_data"
    },
    {
     "data": {
      "text/html": [
       "<div>\n",
       "<style scoped>\n",
       "    .dataframe tbody tr th:only-of-type {\n",
       "        vertical-align: middle;\n",
       "    }\n",
       "\n",
       "    .dataframe tbody tr th {\n",
       "        vertical-align: top;\n",
       "    }\n",
       "\n",
       "    .dataframe thead tr th {\n",
       "        text-align: left;\n",
       "    }\n",
       "\n",
       "    .dataframe thead tr:last-of-type th {\n",
       "        text-align: right;\n",
       "    }\n",
       "</style>\n",
       "<table border=\"1\" class=\"dataframe\">\n",
       "  <thead>\n",
       "    <tr>\n",
       "      <th></th>\n",
       "      <th colspan=\"4\" halign=\"left\">Impression</th>\n",
       "    </tr>\n",
       "    <tr>\n",
       "      <th></th>\n",
       "      <th>count</th>\n",
       "      <th>sum</th>\n",
       "      <th>mean</th>\n",
       "      <th>median</th>\n",
       "    </tr>\n",
       "    <tr>\n",
       "      <th>month</th>\n",
       "      <th></th>\n",
       "      <th></th>\n",
       "      <th></th>\n",
       "      <th></th>\n",
       "    </tr>\n",
       "  </thead>\n",
       "  <tbody>\n",
       "    <tr>\n",
       "      <th>1</th>\n",
       "      <td>6</td>\n",
       "      <td>1119</td>\n",
       "      <td>186.500000</td>\n",
       "      <td>173.5</td>\n",
       "    </tr>\n",
       "    <tr>\n",
       "      <th>2</th>\n",
       "      <td>3</td>\n",
       "      <td>675</td>\n",
       "      <td>225.000000</td>\n",
       "      <td>154.0</td>\n",
       "    </tr>\n",
       "    <tr>\n",
       "      <th>3</th>\n",
       "      <td>6</td>\n",
       "      <td>735</td>\n",
       "      <td>122.500000</td>\n",
       "      <td>112.5</td>\n",
       "    </tr>\n",
       "    <tr>\n",
       "      <th>4</th>\n",
       "      <td>7</td>\n",
       "      <td>676</td>\n",
       "      <td>96.571429</td>\n",
       "      <td>81.0</td>\n",
       "    </tr>\n",
       "    <tr>\n",
       "      <th>5</th>\n",
       "      <td>9</td>\n",
       "      <td>2099</td>\n",
       "      <td>233.222222</td>\n",
       "      <td>110.0</td>\n",
       "    </tr>\n",
       "    <tr>\n",
       "      <th>6</th>\n",
       "      <td>7</td>\n",
       "      <td>985</td>\n",
       "      <td>140.714286</td>\n",
       "      <td>118.0</td>\n",
       "    </tr>\n",
       "    <tr>\n",
       "      <th>7</th>\n",
       "      <td>3</td>\n",
       "      <td>400</td>\n",
       "      <td>133.333333</td>\n",
       "      <td>123.0</td>\n",
       "    </tr>\n",
       "    <tr>\n",
       "      <th>8</th>\n",
       "      <td>1</td>\n",
       "      <td>130</td>\n",
       "      <td>130.000000</td>\n",
       "      <td>130.0</td>\n",
       "    </tr>\n",
       "    <tr>\n",
       "      <th>9</th>\n",
       "      <td>1</td>\n",
       "      <td>286</td>\n",
       "      <td>286.000000</td>\n",
       "      <td>286.0</td>\n",
       "    </tr>\n",
       "    <tr>\n",
       "      <th>10</th>\n",
       "      <td>11</td>\n",
       "      <td>1367</td>\n",
       "      <td>124.272727</td>\n",
       "      <td>116.0</td>\n",
       "    </tr>\n",
       "    <tr>\n",
       "      <th>11</th>\n",
       "      <td>3</td>\n",
       "      <td>786</td>\n",
       "      <td>262.000000</td>\n",
       "      <td>261.0</td>\n",
       "    </tr>\n",
       "    <tr>\n",
       "      <th>12</th>\n",
       "      <td>2</td>\n",
       "      <td>406</td>\n",
       "      <td>203.000000</td>\n",
       "      <td>203.0</td>\n",
       "    </tr>\n",
       "  </tbody>\n",
       "</table>\n",
       "</div>"
      ],
      "text/plain": [
       "      Impression                         \n",
       "           count   sum        mean median\n",
       "month                                    \n",
       "1              6  1119  186.500000  173.5\n",
       "2              3   675  225.000000  154.0\n",
       "3              6   735  122.500000  112.5\n",
       "4              7   676   96.571429   81.0\n",
       "5              9  2099  233.222222  110.0\n",
       "6              7   985  140.714286  118.0\n",
       "7              3   400  133.333333  123.0\n",
       "8              1   130  130.000000  130.0\n",
       "9              1   286  286.000000  286.0\n",
       "10            11  1367  124.272727  116.0\n",
       "11             3   786  262.000000  261.0\n",
       "12             2   406  203.000000  203.0"
      ]
     },
     "execution_count": 13,
     "metadata": {},
     "output_type": "execute_result"
    }
   ],
   "source": [
    "month_impression = result.groupby(['month'])['Impression'].agg(['count','sum','mean','median'])\n",
    "\n",
    "fig, axes = plt.subplots(2, 2, figsize=(18, 12))\n",
    "axes = axes.flatten()\n",
    "\n",
    "sns.barplot(x=month_impression.index, y=month_impression['count'], ax=axes[0]).set_title(\"Total posts over a year\")\n",
    "plt.ylabel('count')\n",
    "plt.xticks(rotation=90)\n",
    "\n",
    "sns.barplot(x=month_impression.index, y=month_impression['sum'], ax=axes[1]).set_title(\"The number of impressions over a year\")\n",
    "plt.ylabel('sum')\n",
    "plt.xticks(rotation=90)\n",
    "\n",
    "sns.barplot(x=month_impression.index, y=month_impression['mean'], ax=axes[2]).set_title(\"Average post impression over a year\")\n",
    "plt.ylabel('mean')\n",
    "plt.xticks(rotation=90)\n",
    "\n",
    "sns.barplot(x=month_impression.index, y=month_impression['median'], ax=axes[3]).set_title(\"Median post impression over a year\")\n",
    "plt.ylabel('median')\n",
    "plt.xticks(rotation=0)\n",
    "\n",
    "plt.show()\n",
    "\n",
    "result.groupby(['month'])[['Impression']].agg(['count','sum','mean','median'])"
   ]
  },
  {
   "cell_type": "markdown",
   "metadata": {
    "papermill": {
     "duration": 0.03152,
     "end_time": "2021-02-16T02:31:24.970780",
     "exception": false,
     "start_time": "2021-02-16T02:31:24.939260",
     "status": "completed"
    },
    "tags": []
   },
   "source": [
    "## 6. Engagement Performance of dayweek"
   ]
  },
  {
   "cell_type": "markdown",
   "metadata": {
    "papermill": {
     "duration": 0.029257,
     "end_time": "2021-02-16T02:31:25.030501",
     "exception": false,
     "start_time": "2021-02-16T02:31:25.001244",
     "status": "completed"
    },
    "tags": []
   },
   "source": [
    "### 6.1 Engagement Performance over a 24h day\n",
    "- The 1st post (Total posts across a 24h day)\n",
    "    - Having mentioned above, we mostly published at 17 o'clock.\n",
    "   \n",
    "   \n",
    "- The 2nd post (The number of engagement across a 24h day)\n",
    "    - Around 12 o'clock get most users engagement, around 140 interactions from 7 posts.\n",
    "    - Having a lots of posts at 17 o'clock acquires only 70 engagements in total.\n",
    "    \n",
    "    \n",
    "- The 3rd post (Average post engagement in a day)\n",
    "    - On average, posts at 12, 16, 20, 21, 23 o'clock received above 15 engagements.\n",
    "    - *Precautious of outliers*.\n",
    "    \n",
    "    \n",
    "- The 4th post (Median post engagement in a day)\n",
    "    - Looking at 12, 16 o'clock on both 3rd and 4th graph shows outliers occur here. Some posts in these times outperformed the average.\n",
    "    - Whereas, posts at 20, 21, 23 are quite similar in pattern and at the top in term of engagement.\n",
    "    \n",
    "    \n",
    "#### Recommendation\n",
    "    - 17 o'clock is not really an ideal time for posts.\n",
    "    - Focus on the posts published at 12, 20, 21, 22, 23 o'clock."
   ]
  },
  {
   "cell_type": "code",
   "execution_count": 14,
   "metadata": {
    "_kg_hide-input": true,
    "execution": {
     "iopub.execute_input": "2021-02-16T02:31:25.113097Z",
     "iopub.status.busy": "2021-02-16T02:31:25.111807Z",
     "iopub.status.idle": "2021-02-16T02:31:26.002291Z",
     "shell.execute_reply": "2021-02-16T02:31:26.003157Z"
    },
    "papermill": {
     "duration": 0.942677,
     "end_time": "2021-02-16T02:31:26.003361",
     "exception": false,
     "start_time": "2021-02-16T02:31:25.060684",
     "status": "completed"
    },
    "tags": []
   },
   "outputs": [
    {
     "data": {
      "image/png": "[encoded data removed]",
      "text/plain": [
       "<Figure size 1296x864 with 4 Axes>"
      ]
     },
     "metadata": {
      "needs_background": "light"
     },
     "output_type": "display_data"
    },
    {
     "data": {
      "text/html": [
       "<div>\n",
       "<style scoped>\n",
       "    .dataframe tbody tr th:only-of-type {\n",
       "        vertical-align: middle;\n",
       "    }\n",
       "\n",
       "    .dataframe tbody tr th {\n",
       "        vertical-align: top;\n",
       "    }\n",
       "\n",
       "    .dataframe thead tr th {\n",
       "        text-align: left;\n",
       "    }\n",
       "\n",
       "    .dataframe thead tr:last-of-type th {\n",
       "        text-align: right;\n",
       "    }\n",
       "</style>\n",
       "<table border=\"1\" class=\"dataframe\">\n",
       "  <thead>\n",
       "    <tr>\n",
       "      <th></th>\n",
       "      <th colspan=\"4\" halign=\"left\">engagement</th>\n",
       "    </tr>\n",
       "    <tr>\n",
       "      <th></th>\n",
       "      <th>count</th>\n",
       "      <th>sum</th>\n",
       "      <th>mean</th>\n",
       "      <th>median</th>\n",
       "    </tr>\n",
       "    <tr>\n",
       "      <th>hour</th>\n",
       "      <th></th>\n",
       "      <th></th>\n",
       "      <th></th>\n",
       "      <th></th>\n",
       "    </tr>\n",
       "  </thead>\n",
       "  <tbody>\n",
       "    <tr>\n",
       "      <th>9</th>\n",
       "      <td>3</td>\n",
       "      <td>9</td>\n",
       "      <td>3.000000</td>\n",
       "      <td>2.0</td>\n",
       "    </tr>\n",
       "    <tr>\n",
       "      <th>10</th>\n",
       "      <td>6</td>\n",
       "      <td>33</td>\n",
       "      <td>5.500000</td>\n",
       "      <td>4.0</td>\n",
       "    </tr>\n",
       "    <tr>\n",
       "      <th>11</th>\n",
       "      <td>6</td>\n",
       "      <td>46</td>\n",
       "      <td>7.666667</td>\n",
       "      <td>8.0</td>\n",
       "    </tr>\n",
       "    <tr>\n",
       "      <th>12</th>\n",
       "      <td>7</td>\n",
       "      <td>139</td>\n",
       "      <td>19.857143</td>\n",
       "      <td>12.0</td>\n",
       "    </tr>\n",
       "    <tr>\n",
       "      <th>13</th>\n",
       "      <td>4</td>\n",
       "      <td>36</td>\n",
       "      <td>9.000000</td>\n",
       "      <td>5.0</td>\n",
       "    </tr>\n",
       "    <tr>\n",
       "      <th>14</th>\n",
       "      <td>5</td>\n",
       "      <td>36</td>\n",
       "      <td>7.200000</td>\n",
       "      <td>8.0</td>\n",
       "    </tr>\n",
       "    <tr>\n",
       "      <th>15</th>\n",
       "      <td>2</td>\n",
       "      <td>20</td>\n",
       "      <td>10.000000</td>\n",
       "      <td>10.0</td>\n",
       "    </tr>\n",
       "    <tr>\n",
       "      <th>16</th>\n",
       "      <td>3</td>\n",
       "      <td>49</td>\n",
       "      <td>16.333333</td>\n",
       "      <td>2.0</td>\n",
       "    </tr>\n",
       "    <tr>\n",
       "      <th>17</th>\n",
       "      <td>10</td>\n",
       "      <td>72</td>\n",
       "      <td>7.200000</td>\n",
       "      <td>2.5</td>\n",
       "    </tr>\n",
       "    <tr>\n",
       "      <th>18</th>\n",
       "      <td>5</td>\n",
       "      <td>14</td>\n",
       "      <td>2.800000</td>\n",
       "      <td>2.0</td>\n",
       "    </tr>\n",
       "    <tr>\n",
       "      <th>20</th>\n",
       "      <td>3</td>\n",
       "      <td>68</td>\n",
       "      <td>22.666667</td>\n",
       "      <td>23.0</td>\n",
       "    </tr>\n",
       "    <tr>\n",
       "      <th>21</th>\n",
       "      <td>2</td>\n",
       "      <td>46</td>\n",
       "      <td>23.000000</td>\n",
       "      <td>23.0</td>\n",
       "    </tr>\n",
       "    <tr>\n",
       "      <th>22</th>\n",
       "      <td>1</td>\n",
       "      <td>0</td>\n",
       "      <td>0.000000</td>\n",
       "      <td>0.0</td>\n",
       "    </tr>\n",
       "    <tr>\n",
       "      <th>23</th>\n",
       "      <td>2</td>\n",
       "      <td>32</td>\n",
       "      <td>16.000000</td>\n",
       "      <td>16.0</td>\n",
       "    </tr>\n",
       "  </tbody>\n",
       "</table>\n",
       "</div>"
      ],
      "text/plain": [
       "     engagement                       \n",
       "          count  sum       mean median\n",
       "hour                                  \n",
       "9             3    9   3.000000    2.0\n",
       "10            6   33   5.500000    4.0\n",
       "11            6   46   7.666667    8.0\n",
       "12            7  139  19.857143   12.0\n",
       "13            4   36   9.000000    5.0\n",
       "14            5   36   7.200000    8.0\n",
       "15            2   20  10.000000   10.0\n",
       "16            3   49  16.333333    2.0\n",
       "17           10   72   7.200000    2.5\n",
       "18            5   14   2.800000    2.0\n",
       "20            3   68  22.666667   23.0\n",
       "21            2   46  23.000000   23.0\n",
       "22            1    0   0.000000    0.0\n",
       "23            2   32  16.000000   16.0"
      ]
     },
     "execution_count": 14,
     "metadata": {},
     "output_type": "execute_result"
    }
   ],
   "source": [
    "hour_engagement = result.groupby(['hour'])['engagement'].agg(['count','sum','mean','median'])\n",
    "\n",
    "\n",
    "fig, axes = plt.subplots(2, 2, figsize=(18, 12))\n",
    "axes = axes.flatten()\n",
    "\n",
    "sns.barplot(x=hour_engagement.index, y=hour_engagement['count'], ax=axes[0]).set_title(\"Total posts across a 24h day\")\n",
    "plt.ylabel('count')\n",
    "plt.xticks(rotation=90)\n",
    "\n",
    "sns.barplot(x=hour_engagement.index, y=hour_engagement['sum'], ax=axes[1]).set_title(\"The number of engagement across a 24h day\")\n",
    "plt.ylabel('sum')\n",
    "plt.xticks(rotation=90)\n",
    "\n",
    "sns.barplot(x=hour_engagement.index, y=hour_engagement['mean'], ax=axes[2]).set_title(\"Average post engagement in a day\")\n",
    "plt.ylabel('mean')\n",
    "plt.xticks(rotation=90)\n",
    "\n",
    "sns.barplot(x=hour_engagement.index, y=hour_engagement['median'], ax=axes[3]).set_title(\"Median post engagement in a day\")\n",
    "plt.ylabel('median')\n",
    "plt.xticks(rotation=0)\n",
    "plt.show()\n",
    "\n",
    "\n",
    "result.groupby(['hour'])[['engagement']].agg(['count','sum','mean','median'])"
   ]
  },
  {
   "cell_type": "markdown",
   "metadata": {
    "papermill": {
     "duration": 0.033337,
     "end_time": "2021-02-16T02:31:26.076305",
     "exception": false,
     "start_time": "2021-02-16T02:31:26.042968",
     "status": "completed"
    },
    "tags": []
   },
   "source": [
    "### 6.2 Engagement Performance over a 7day week\n",
    "- The 1st post (Total posts over a week)\n",
    "    - Having mentioned above, we have most posts on Wednesday.\n",
    "   \n",
    "   \n",
    "- The 2nd post (Total Engagement over a week)\n",
    "    - Most total engagement figures are in the descending order Wednesday, Tuesday, Monday.\n",
    "    \n",
    "    \n",
    "- The 3rd post (Average Engagement of each post over a week)\n",
    "    - On average, Wednesday' posts indicate the best performance of engagement.\n",
    "    - *Precautious of outliers*.\n",
    "    \n",
    "    \n",
    "- The 4th post (Median Engagement of each post over a week)\n",
    "    - Removing outliers by applying median method shows Tuesday's posts are the best engagement.\n",
    "    - While, Monday, Wednesday, Thursday, Sunday do not differ to each other.\n",
    "    \n",
    "    \n",
    "#### Recommendation\n",
    "    - The 4th graph shows Monday and Wednesday contains outliers, deducing that if we want to make a huge breaking ground of engagement, we consider posts on Monday and Wednesday.\n",
    "    - Overall, Monday, Tuesday, Wednesday, and Sunday are fine day if we focus on engagement metric.\n",
    "    - Avoid Friday, and Saturday."
   ]
  },
  {
   "cell_type": "code",
   "execution_count": 15,
   "metadata": {
    "_kg_hide-input": true,
    "execution": {
     "iopub.execute_input": "2021-02-16T02:31:26.165013Z",
     "iopub.status.busy": "2021-02-16T02:31:26.158902Z",
     "iopub.status.idle": "2021-02-16T02:31:26.729272Z",
     "shell.execute_reply": "2021-02-16T02:31:26.729727Z"
    },
    "papermill": {
     "duration": 0.620432,
     "end_time": "2021-02-16T02:31:26.729867",
     "exception": false,
     "start_time": "2021-02-16T02:31:26.109435",
     "status": "completed"
    },
    "tags": []
   },
   "outputs": [
    {
     "data": {
      "image/png": "[encoded data removed]",
      "text/plain": [
       "<Figure size 1296x864 with 4 Axes>"
      ]
     },
     "metadata": {
      "needs_background": "light"
     },
     "output_type": "display_data"
    },
    {
     "data": {
      "text/html": [
       "<div>\n",
       "<style scoped>\n",
       "    .dataframe tbody tr th:only-of-type {\n",
       "        vertical-align: middle;\n",
       "    }\n",
       "\n",
       "    .dataframe tbody tr th {\n",
       "        vertical-align: top;\n",
       "    }\n",
       "\n",
       "    .dataframe thead tr th {\n",
       "        text-align: left;\n",
       "    }\n",
       "\n",
       "    .dataframe thead tr:last-of-type th {\n",
       "        text-align: right;\n",
       "    }\n",
       "</style>\n",
       "<table border=\"1\" class=\"dataframe\">\n",
       "  <thead>\n",
       "    <tr>\n",
       "      <th></th>\n",
       "      <th colspan=\"4\" halign=\"left\">engagement</th>\n",
       "    </tr>\n",
       "    <tr>\n",
       "      <th></th>\n",
       "      <th>count</th>\n",
       "      <th>sum</th>\n",
       "      <th>mean</th>\n",
       "      <th>median</th>\n",
       "    </tr>\n",
       "    <tr>\n",
       "      <th>dayofweek</th>\n",
       "      <th></th>\n",
       "      <th></th>\n",
       "      <th></th>\n",
       "      <th></th>\n",
       "    </tr>\n",
       "  </thead>\n",
       "  <tbody>\n",
       "    <tr>\n",
       "      <th>1_Mon</th>\n",
       "      <td>12</td>\n",
       "      <td>114</td>\n",
       "      <td>9.500000</td>\n",
       "      <td>6.0</td>\n",
       "    </tr>\n",
       "    <tr>\n",
       "      <th>2_Tue</th>\n",
       "      <td>11</td>\n",
       "      <td>152</td>\n",
       "      <td>13.818182</td>\n",
       "      <td>13.0</td>\n",
       "    </tr>\n",
       "    <tr>\n",
       "      <th>3_Wed</th>\n",
       "      <td>13</td>\n",
       "      <td>193</td>\n",
       "      <td>14.846154</td>\n",
       "      <td>7.0</td>\n",
       "    </tr>\n",
       "    <tr>\n",
       "      <th>4_Thur</th>\n",
       "      <td>6</td>\n",
       "      <td>45</td>\n",
       "      <td>7.500000</td>\n",
       "      <td>7.5</td>\n",
       "    </tr>\n",
       "    <tr>\n",
       "      <th>5_Fri</th>\n",
       "      <td>10</td>\n",
       "      <td>38</td>\n",
       "      <td>3.800000</td>\n",
       "      <td>1.5</td>\n",
       "    </tr>\n",
       "    <tr>\n",
       "      <th>6_Sat</th>\n",
       "      <td>5</td>\n",
       "      <td>41</td>\n",
       "      <td>8.200000</td>\n",
       "      <td>2.0</td>\n",
       "    </tr>\n",
       "    <tr>\n",
       "      <th>7_Sun</th>\n",
       "      <td>2</td>\n",
       "      <td>17</td>\n",
       "      <td>8.500000</td>\n",
       "      <td>8.5</td>\n",
       "    </tr>\n",
       "  </tbody>\n",
       "</table>\n",
       "</div>"
      ],
      "text/plain": [
       "          engagement                       \n",
       "               count  sum       mean median\n",
       "dayofweek                                  \n",
       "1_Mon             12  114   9.500000    6.0\n",
       "2_Tue             11  152  13.818182   13.0\n",
       "3_Wed             13  193  14.846154    7.0\n",
       "4_Thur             6   45   7.500000    7.5\n",
       "5_Fri             10   38   3.800000    1.5\n",
       "6_Sat              5   41   8.200000    2.0\n",
       "7_Sun              2   17   8.500000    8.5"
      ]
     },
     "execution_count": 15,
     "metadata": {},
     "output_type": "execute_result"
    }
   ],
   "source": [
    "dayofweek_engagement = result.groupby(['dayofweek'])['engagement'].agg(['count','sum','mean','median'])\n",
    "\n",
    "\n",
    "fig, axes = plt.subplots(2, 2, figsize=(18, 12))\n",
    "axes = axes.flatten()\n",
    "\n",
    "sns.barplot(x=dayofweek_engagement.index, y=dayofweek_engagement['count'], ax=axes[0]).set_title(\"Total posts over a week\")\n",
    "plt.ylabel('count')\n",
    "plt.xticks(rotation=90)\n",
    "\n",
    "sns.barplot(x=dayofweek_engagement.index, y=dayofweek_engagement['sum'], ax=axes[1]).set_title(\"Total Engagement over a week\")\n",
    "plt.ylabel('sum')\n",
    "plt.xticks(rotation=90)\n",
    "\n",
    "sns.barplot(x=dayofweek_engagement.index, y=dayofweek_engagement['mean'], ax=axes[2]).set_title(\"Average Engagement of each post over a week\")\n",
    "plt.ylabel('mean')\n",
    "plt.xticks(rotation=90)\n",
    "\n",
    "sns.barplot(x=dayofweek_engagement.index, y=dayofweek_engagement['median'], ax=axes[3]).set_title(\"Median Engagement of each post over a week\")\n",
    "plt.ylabel('median')\n",
    "plt.xticks(rotation=90)\n",
    "\n",
    "plt.show()\n",
    "\n",
    "result.groupby(['dayofweek'])[['engagement']].agg(['count','sum','mean','median'])"
   ]
  },
  {
   "cell_type": "markdown",
   "metadata": {
    "papermill": {
     "duration": 0.035469,
     "end_time": "2021-02-16T02:31:26.798459",
     "exception": false,
     "start_time": "2021-02-16T02:31:26.762990",
     "status": "completed"
    },
    "tags": []
   },
   "source": [
    "### 6.3 Engagement Performance over a 12month year\n",
    "\n",
    "\n",
    "- The 1st post (Total posts over a year)\n",
    "    - Having mentioned above, we have most posts in 'Oct'.\n",
    "   \n",
    "   \n",
    "- The 2nd post (Total Engagement over a year)\n",
    "    - Most total engagement numbers fall in 'Jan', 'Otc'.\n",
    "    \n",
    "    \n",
    "- The 3rd post (Average Engagement of each post over a year)\n",
    "    - On average, 'Oct', 'Nov', 'Dec', 'Jan' involves much engagement, derived from at least 2 posts in each months.\n",
    "    - 'Sep' 's post has quite good engagement, the figure is derived from only 1 post. Thus can't really say about 'Sep'.\n",
    "    - *Precautious of outliers.*\n",
    "    \n",
    "    \n",
    "- The 4th post (Median Engagement of each post over a year)\n",
    "    - Removing outliers by applying median method shows 'Nov', 'Dec', 'Jan' are the best engagement.\n",
    "    - While, in the middle of a year people are less likely to engage with our posts.\n",
    "    \n",
    "    \n",
    "#### Recommendation\n",
    "    - Towards to the year end, and the beginning of new year, we should have more posts on our social media."
   ]
  },
  {
   "cell_type": "code",
   "execution_count": 16,
   "metadata": {
    "_kg_hide-input": true,
    "execution": {
     "iopub.execute_input": "2021-02-16T02:31:26.887224Z",
     "iopub.status.busy": "2021-02-16T02:31:26.883110Z",
     "iopub.status.idle": "2021-02-16T02:31:27.632462Z",
     "shell.execute_reply": "2021-02-16T02:31:27.632948Z"
    },
    "papermill": {
     "duration": 0.801741,
     "end_time": "2021-02-16T02:31:27.633082",
     "exception": false,
     "start_time": "2021-02-16T02:31:26.831341",
     "status": "completed"
    },
    "tags": []
   },
   "outputs": [
    {
     "data": {
      "image/png": "[encoded data removed]",
      "text/plain": [
       "<Figure size 1296x864 with 4 Axes>"
      ]
     },
     "metadata": {
      "needs_background": "light"
     },
     "output_type": "display_data"
    },
    {
     "data": {
      "text/html": [
       "<div>\n",
       "<style scoped>\n",
       "    .dataframe tbody tr th:only-of-type {\n",
       "        vertical-align: middle;\n",
       "    }\n",
       "\n",
       "    .dataframe tbody tr th {\n",
       "        vertical-align: top;\n",
       "    }\n",
       "\n",
       "    .dataframe thead tr th {\n",
       "        text-align: left;\n",
       "    }\n",
       "\n",
       "    .dataframe thead tr:last-of-type th {\n",
       "        text-align: right;\n",
       "    }\n",
       "</style>\n",
       "<table border=\"1\" class=\"dataframe\">\n",
       "  <thead>\n",
       "    <tr>\n",
       "      <th></th>\n",
       "      <th colspan=\"4\" halign=\"left\">engagement</th>\n",
       "    </tr>\n",
       "    <tr>\n",
       "      <th></th>\n",
       "      <th>count</th>\n",
       "      <th>sum</th>\n",
       "      <th>mean</th>\n",
       "      <th>median</th>\n",
       "    </tr>\n",
       "    <tr>\n",
       "      <th>month</th>\n",
       "      <th></th>\n",
       "      <th></th>\n",
       "      <th></th>\n",
       "      <th></th>\n",
       "    </tr>\n",
       "  </thead>\n",
       "  <tbody>\n",
       "    <tr>\n",
       "      <th>1</th>\n",
       "      <td>6</td>\n",
       "      <td>118</td>\n",
       "      <td>19.666667</td>\n",
       "      <td>11.5</td>\n",
       "    </tr>\n",
       "    <tr>\n",
       "      <th>2</th>\n",
       "      <td>3</td>\n",
       "      <td>38</td>\n",
       "      <td>12.666667</td>\n",
       "      <td>10.0</td>\n",
       "    </tr>\n",
       "    <tr>\n",
       "      <th>3</th>\n",
       "      <td>6</td>\n",
       "      <td>61</td>\n",
       "      <td>10.166667</td>\n",
       "      <td>7.0</td>\n",
       "    </tr>\n",
       "    <tr>\n",
       "      <th>4</th>\n",
       "      <td>7</td>\n",
       "      <td>15</td>\n",
       "      <td>2.142857</td>\n",
       "      <td>1.0</td>\n",
       "    </tr>\n",
       "    <tr>\n",
       "      <th>5</th>\n",
       "      <td>9</td>\n",
       "      <td>71</td>\n",
       "      <td>7.888889</td>\n",
       "      <td>2.0</td>\n",
       "    </tr>\n",
       "    <tr>\n",
       "      <th>6</th>\n",
       "      <td>7</td>\n",
       "      <td>49</td>\n",
       "      <td>7.000000</td>\n",
       "      <td>6.0</td>\n",
       "    </tr>\n",
       "    <tr>\n",
       "      <th>7</th>\n",
       "      <td>3</td>\n",
       "      <td>16</td>\n",
       "      <td>5.333333</td>\n",
       "      <td>4.0</td>\n",
       "    </tr>\n",
       "    <tr>\n",
       "      <th>8</th>\n",
       "      <td>1</td>\n",
       "      <td>4</td>\n",
       "      <td>4.000000</td>\n",
       "      <td>4.0</td>\n",
       "    </tr>\n",
       "    <tr>\n",
       "      <th>9</th>\n",
       "      <td>1</td>\n",
       "      <td>16</td>\n",
       "      <td>16.000000</td>\n",
       "      <td>16.0</td>\n",
       "    </tr>\n",
       "    <tr>\n",
       "      <th>10</th>\n",
       "      <td>11</td>\n",
       "      <td>116</td>\n",
       "      <td>10.545455</td>\n",
       "      <td>8.0</td>\n",
       "    </tr>\n",
       "    <tr>\n",
       "      <th>11</th>\n",
       "      <td>3</td>\n",
       "      <td>55</td>\n",
       "      <td>18.333333</td>\n",
       "      <td>23.0</td>\n",
       "    </tr>\n",
       "    <tr>\n",
       "      <th>12</th>\n",
       "      <td>2</td>\n",
       "      <td>41</td>\n",
       "      <td>20.500000</td>\n",
       "      <td>20.5</td>\n",
       "    </tr>\n",
       "  </tbody>\n",
       "</table>\n",
       "</div>"
      ],
      "text/plain": [
       "      engagement                       \n",
       "           count  sum       mean median\n",
       "month                                  \n",
       "1              6  118  19.666667   11.5\n",
       "2              3   38  12.666667   10.0\n",
       "3              6   61  10.166667    7.0\n",
       "4              7   15   2.142857    1.0\n",
       "5              9   71   7.888889    2.0\n",
       "6              7   49   7.000000    6.0\n",
       "7              3   16   5.333333    4.0\n",
       "8              1    4   4.000000    4.0\n",
       "9              1   16  16.000000   16.0\n",
       "10            11  116  10.545455    8.0\n",
       "11             3   55  18.333333   23.0\n",
       "12             2   41  20.500000   20.5"
      ]
     },
     "execution_count": 16,
     "metadata": {},
     "output_type": "execute_result"
    }
   ],
   "source": [
    "month_engagement = result.groupby(['month'])['engagement'].agg(['count','sum','mean','median'])\n",
    "\n",
    "fig, axes = plt.subplots(2, 2, figsize=(18, 12))\n",
    "axes = axes.flatten()\n",
    "\n",
    "sns.barplot(x=month_engagement.index, y=month_engagement['count'], ax=axes[0]).set_title(\"Total posts over a year\")\n",
    "plt.ylabel('count')\n",
    "plt.xticks(rotation=90)\n",
    "\n",
    "sns.barplot(x=month_engagement.index, y=month_engagement['sum'], ax=axes[1]).set_title(\"The number of engagement over a year\")\n",
    "plt.ylabel('sum')\n",
    "plt.xticks(rotation=90)\n",
    "\n",
    "sns.barplot(x=month_engagement.index, y=month_engagement['mean'], ax=axes[2]).set_title(\"Average post engagement over a year\")\n",
    "plt.ylabel('mean')\n",
    "plt.xticks(rotation=90)\n",
    "\n",
    "sns.barplot(x=month_engagement.index, y=month_engagement['median'], ax=axes[3]).set_title(\"Median post engagement over a year\")\n",
    "plt.ylabel('median')\n",
    "plt.xticks(rotation=0)\n",
    "\n",
    "plt.show()\n",
    "\n",
    "result.groupby(['month'])[['engagement']].agg(['count','sum','mean','median'])"
   ]
  },
  {
   "cell_type": "markdown",
   "metadata": {
    "papermill": {
     "duration": 0.035335,
     "end_time": "2021-02-16T02:31:27.705551",
     "exception": false,
     "start_time": "2021-02-16T02:31:27.670216",
     "status": "completed"
    },
    "tags": []
   },
   "source": [
    "## 7. Impression vs Engagement\n",
    "\n",
    "- The graph below show the relationship between Impression and Engagement. More impressions tend to get more engagement.\n",
    "- On the right half of the graph shows the some posts with the best performance, most of which are on Wednesday, Tuesday, Monday."
   ]
  },
  {
   "cell_type": "code",
   "execution_count": 17,
   "metadata": {
    "_kg_hide-input": true,
    "execution": {
     "iopub.execute_input": "2021-02-16T02:31:27.785233Z",
     "iopub.status.busy": "2021-02-16T02:31:27.784629Z",
     "iopub.status.idle": "2021-02-16T02:31:27.787186Z",
     "shell.execute_reply": "2021-02-16T02:31:27.786681Z"
    },
    "papermill": {
     "duration": 0.046528,
     "end_time": "2021-02-16T02:31:27.787281",
     "exception": false,
     "start_time": "2021-02-16T02:31:27.740753",
     "status": "completed"
    },
    "tags": []
   },
   "outputs": [],
   "source": [
    "# Remove outliers in dataset\n",
    "result.drop(result[result['Impression'] == 0].index, inplace=True)\n",
    "\n",
    "# Transforming data\n",
    "result['impression_log'] = np.log1p(result[\"Impression\"])\n",
    "result['engagement_log'] = np.log1p(result[\"engagement\"])"
   ]
  },
  {
   "cell_type": "code",
   "execution_count": 18,
   "metadata": {
    "_kg_hide-input": true,
    "execution": {
     "iopub.execute_input": "2021-02-16T02:31:27.875883Z",
     "iopub.status.busy": "2021-02-16T02:31:27.873047Z",
     "iopub.status.idle": "2021-02-16T02:31:28.111621Z",
     "shell.execute_reply": "2021-02-16T02:31:28.112110Z"
    },
    "papermill": {
     "duration": 0.289194,
     "end_time": "2021-02-16T02:31:28.112239",
     "exception": false,
     "start_time": "2021-02-16T02:31:27.823045",
     "status": "completed"
    },
    "tags": []
   },
   "outputs": [
    {
     "data": {
      "image/png": "[encoded data removed]",
      "text/plain": [
       "<Figure size 1296x576 with 1 Axes>"
      ]
     },
     "metadata": {
      "needs_background": "light"
     },
     "output_type": "display_data"
    }
   ],
   "source": [
    "hue_order = ['1_Mon','2_Tue','3_Wed','4_Thur','5_Fri','6_Sat','7_Sun']\n",
    "\n",
    "fig = plt.figure(figsize=(18, 8))\n",
    "sns.scatterplot(data=result, x=\"impression_log\", y=\"engagement_log\", hue='dayofweek', hue_order=hue_order, sizes=80)\n",
    "\n",
    "plt.show()"
   ]
  },
  {
   "cell_type": "markdown",
   "metadata": {
    "papermill": {
     "duration": 0.036735,
     "end_time": "2021-02-16T02:31:28.185272",
     "exception": false,
     "start_time": "2021-02-16T02:31:28.148537",
     "status": "completed"
    },
    "tags": []
   },
   "source": [
    "## 8. Correlation between Reach, Impression, Engagement, Life time of each post\n",
    "\n",
    "- The graph shows Reach and Impression are closely correlated.\n",
    "- Engagement is higher if a post get higher Reach and/or Impression. \n",
    "- Life time of a post is mostly correlated with engagement, meaning if a post is older, it tends to get higher engagement."
   ]
  },
  {
   "cell_type": "code",
   "execution_count": 19,
   "metadata": {
    "_kg_hide-input": true,
    "execution": {
     "iopub.execute_input": "2021-02-16T02:31:28.260914Z",
     "iopub.status.busy": "2021-02-16T02:31:28.260252Z",
     "iopub.status.idle": "2021-02-16T02:31:28.473297Z",
     "shell.execute_reply": "2021-02-16T02:31:28.473803Z"
    },
    "papermill": {
     "duration": 0.252279,
     "end_time": "2021-02-16T02:31:28.473955",
     "exception": false,
     "start_time": "2021-02-16T02:31:28.221676",
     "status": "completed"
    },
    "tags": []
   },
   "outputs": [
    {
     "data": {
      "image/png": "[encoded data removed]",
      "text/plain": [
       "<Figure size 792x648 with 2 Axes>"
      ]
     },
     "metadata": {
      "needs_background": "light"
     },
     "output_type": "display_data"
    }
   ],
   "source": [
    "result['life_time_post'] = (pd.to_datetime('today').date() - result['date']).astype('timedelta64[D]')\n",
    "\n",
    "columns = ['Reach', 'Impression', 'engagement','life_time_post']\n",
    "\n",
    "# Compute the correlation matrix\n",
    "corr = result[columns].corr()\n",
    "\n",
    "# Generate a mask for the upper triangle\n",
    "mask = np.triu(np.ones_like(corr, dtype=bool))\n",
    "\n",
    "# Set up the matplotlib figure\n",
    "f, ax = plt.subplots(figsize=(11, 9))\n",
    "\n",
    "# Generate a custom diverging colormap\n",
    "cmap = sns.diverging_palette(230, 20, as_cmap=True)\n",
    "\n",
    "# Draw the heatmap with the mask and correct aspect ratio\n",
    "sns.heatmap(corr, mask=mask, cmap=cmap, vmin = -1, vmax = 1,\n",
    "            linewidths=1, cbar_kws={\"shrink\": 0.5}, annot=True)\n",
    "\n",
    "plt.show()"
   ]
  },
  {
   "cell_type": "markdown",
   "metadata": {
    "papermill": {
     "duration": 0.038186,
     "end_time": "2021-02-16T02:31:28.551536",
     "exception": false,
     "start_time": "2021-02-16T02:31:28.513350",
     "status": "completed"
    },
    "tags": []
   },
   "source": [
    "## 9. Further Analysis\n",
    "- Tracking keywords, phrases, hashtags mostly used\n",
    "- How often we post?\n",
    "- When was the last time we posted?\n",
    "- Do we respond to comments?\n",
    "- Types of content: text, image, video"
   ]
  },
  {
   "cell_type": "code",
   "execution_count": null,
   "metadata": {
    "papermill": {
     "duration": 0.03664,
     "end_time": "2021-02-16T02:31:28.625492",
     "exception": false,
     "start_time": "2021-02-16T02:31:28.588852",
     "status": "completed"
    },
    "tags": []
   },
   "outputs": [],
   "source": []
  }
 ],
 "metadata": {
  "kernelspec": {
   "display_name": "Python 3",
   "language": "python",
   "name": "python3"
  },
  "language_info": {
   "codemirror_mode": {
    "name": "ipython",
    "version": 3
   },
   "file_extension": ".py",
   "mimetype": "text/x-python",
   "name": "python",
   "nbconvert_exporter": "python",
   "pygments_lexer": "ipython3",
   "version": "3.7.6"
  },
  "papermill": {
   "duration": 12.689662,
   "end_time": "2021-02-16T02:31:28.770033",
   "environment_variables": {},
   "exception": null,
   "input_path": "__notebook__.ipynb",
   "output_path": "__notebook__.ipynb",
   "parameters": {},
   "start_time": "2021-02-16T02:31:16.080371",
   "version": "2.1.0"
  }
 },
 "nbformat": 4,
 "nbformat_minor": 4
}
